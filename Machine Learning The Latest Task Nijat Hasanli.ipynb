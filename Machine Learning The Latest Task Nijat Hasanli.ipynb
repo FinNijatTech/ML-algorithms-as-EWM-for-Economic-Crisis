{
  "nbformat": 4,
  "nbformat_minor": 0,
  "metadata": {
    "colab": {
      "private_outputs": true,
      "provenance": [],
      "authorship_tag": "ABX9TyOEt0/15mUmrs3rxNOGyPZr",
      "include_colab_link": true
    },
    "kernelspec": {
      "name": "python3",
      "display_name": "Python 3"
    },
    "language_info": {
      "name": "python"
    }
  },
  "cells": [
    {
      "cell_type": "markdown",
      "metadata": {
        "id": "view-in-github",
        "colab_type": "text"
      },
      "source": [
        "<a href=\"https://colab.research.google.com/github/FinNijatTech/Master-Thesis-Project/blob/main/Machine%20Learning%20The%20Latest%20Task%20Nijat%20Hasanli.ipynb\" target=\"_parent\"><img src=\"https://colab.research.google.com/assets/colab-badge.svg\" alt=\"Open In Colab\"/></a>"
      ]
    },
    {
      "cell_type": "code",
      "source": [
        "import pandas as pd\n",
        "from sklearn.model_selection import train_test_split, GridSearchCV\n",
        "from sklearn.ensemble import GradientBoostingClassifier\n",
        "from xgboost import XGBClassifier\n",
        "from lightgbm import LGBMClassifier\n",
        "from sklearn.preprocessing import LabelEncoder\n",
        "from catboost import CatBoostClassifier\n",
        "from sklearn.metrics import classification_report, confusion_matrix"
      ],
      "metadata": {
        "id": "9ibnSAKR3MUo"
      },
      "execution_count": null,
      "outputs": []
    },
    {
      "cell_type": "code",
      "source": [
        "wine_data = pd.read_csv(\"/content/winequality-white (1).csv\", sep=';')"
      ],
      "metadata": {
        "id": "DO-_wXmB3yaU"
      },
      "execution_count": null,
      "outputs": []
    },
    {
      "cell_type": "code",
      "source": [
        "wine_data"
      ],
      "metadata": {
        "id": "jxNeOfKZPT5e"
      },
      "execution_count": null,
      "outputs": []
    },
    {
      "cell_type": "code",
      "source": [
        "wine_data['quality'].unique()"
      ],
      "metadata": {
        "id": "oohE2l5W31NT"
      },
      "execution_count": null,
      "outputs": []
    },
    {
      "cell_type": "code",
      "source": [
        "bins = [2, 4, 7, 9]\n",
        "labels = [0, 1, 2]\n",
        "\n",
        "wine_data['quality_class'] = pd.cut(wine_data['quality'], bins=bins, labels=labels, include_lowest=True)\n",
        "\n",
        "X = wine_data.drop(['quality', 'quality_class'], axis=1)\n",
        "y = wine_data['quality_class']\n",
        "\n",
        "X_train, X_test, y_train, y_test = train_test_split(X, y, test_size=0.2, random_state=42)"
      ],
      "metadata": {
        "id": "xwZTkP595bPd"
      },
      "execution_count": null,
      "outputs": []
    },
    {
      "cell_type": "code",
      "source": [
        "# XGBoost\n",
        "xgb_model = XGBClassifier()\n",
        "param_grid_xgb = {\n",
        "    \"learning_rate\": [0.01, 0.1, 0.2],\n",
        "    \"max_depth\": [3, 5, 7],\n",
        "    \"n_estimators\": [50, 100, 200]\n",
        "}\n",
        "grid_search_xgb = GridSearchCV(xgb_model, param_grid_xgb, cv=5, scoring='accuracy')\n",
        "grid_search_xgb.fit(X_train, y_train)\n"
      ],
      "metadata": {
        "id": "j99KIj3y8Ia_"
      },
      "execution_count": null,
      "outputs": []
    },
    {
      "cell_type": "code",
      "source": [
        "\n",
        "# LightGBM\n",
        "lgbm_model = LGBMClassifier()\n",
        "param_grid_lgbm = {\n",
        "    \"learning_rate\": [0.01, 0.1, 0.2],\n",
        "    \"max_depth\": [3, 5, 7],\n",
        "    \"n_estimators\": [50, 100, 200]\n",
        "}\n",
        "grid_search_lgbm = GridSearchCV(lgbm_model, param_grid_lgbm, cv=5, scoring='accuracy')\n",
        "grid_search_lgbm.fit(X_train, y_train)\n",
        "\n"
      ],
      "metadata": {
        "id": "yD7hTmGk91m_"
      },
      "execution_count": null,
      "outputs": []
    },
    {
      "cell_type": "code",
      "source": [
        "# CatBoost\n",
        "catboost_model = CatBoostClassifier()\n",
        "param_grid_catboost = {\n",
        "    \"learning_rate\": [0.01, 0.1, 0.2],\n",
        "    \"max_depth\": [3, 5, 7],\n",
        "    \"n_estimators\": [50, 100, 200]\n",
        "}\n",
        "grid_search_catboost = GridSearchCV(catboost_model, param_grid_catboost, cv=5, scoring='accuracy')\n",
        "grid_search_catboost.fit(X_train, y_train)\n",
        "\n"
      ],
      "metadata": {
        "id": "wkc8-ZHFLaz0"
      },
      "execution_count": null,
      "outputs": []
    },
    {
      "cell_type": "code",
      "source": [
        "# Classical Gradient Boosting\n",
        "gb_model = GradientBoostingClassifier()\n",
        "param_grid_gb = {\n",
        "    \"learning_rate\": [0.01, 0.1, 0.2],\n",
        "    \"max_depth\": [3, 5, 7],\n",
        "    \"n_estimators\": [50, 100, 200]\n",
        "}\n",
        "grid_search_gb = GridSearchCV(gb_model, param_grid_gb, cv=5, scoring='accuracy')\n",
        "grid_search_gb.fit(X_train, y_train)"
      ],
      "metadata": {
        "id": "l89ALRMaLcEk"
      },
      "execution_count": null,
      "outputs": []
    },
    {
      "cell_type": "code",
      "source": [
        "y_pred_xgb = grid_search_xgb.predict(X_test)\n",
        "y_pred_lgbm = grid_search_lgbm.predict(X_test)\n",
        "y_pred_catboost = grid_search_catboost.predict(X_test)\n",
        "y_pred_gb = grid_search_gb.predict(X_test)"
      ],
      "metadata": {
        "id": "f5pozKtTLg3T"
      },
      "execution_count": null,
      "outputs": []
    },
    {
      "cell_type": "code",
      "source": [
        "print(\"XGBoost Classification Report:\")\n",
        "print(classification_report(y_test, y_pred_xgb))\n",
        "print(\"XGBoost Confusion Matrix:\")\n",
        "print(confusion_matrix(y_test, y_pred_xgb))\n",
        "\n",
        "print(\"LightGBM Classification Report:\")\n",
        "print(classification_report(y_test, y_pred_lgbm))\n",
        "print(\"LightGBM Confusion Matrix:\")\n",
        "print(confusion_matrix(y_test, y_pred_lgbm))\n",
        "\n",
        "print(\"CatBoost Classification Report:\")\n",
        "print(classification_report(y_test, y_pred_catboost))\n",
        "print(\"CatBoost Confusion Matrix:\")\n",
        "print(confusion_matrix(y_test, y_pred_catboost))\n",
        "\n",
        "print(\"Graduent Boosting Report:\")\n",
        "print(classification_report(y_test, y_pred_gb))\n",
        "print(\"Graduent Boosting Confusion Matrix:\")\n",
        "print(confusion_matrix(y_test, y_pred_gb))"
      ],
      "metadata": {
        "id": "cBIsgC7nMuKn"
      },
      "execution_count": null,
      "outputs": []
    },
    {
      "cell_type": "code",
      "source": [],
      "metadata": {
        "id": "ffJPPvtMO2Ls"
      },
      "execution_count": null,
      "outputs": []
    }
  ]
}